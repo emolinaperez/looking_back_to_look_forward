{
 "cells": [
  {
   "cell_type": "code",
   "execution_count": 1,
   "id": "7aa95ddb",
   "metadata": {},
   "outputs": [],
   "source": [
    "from bardis_model import BardisModel"
   ]
  },
  {
   "cell_type": "code",
   "execution_count": 2,
   "metadata": {},
   "outputs": [],
   "source": [
    "# Model parameters\n",
    "params = {\n",
    "    'k_resources': 0.15 * 0.1 * 0.08,  # Autoregeneration rate of resources  \n",
    "    'ef_economy_resources_on_prod': 17.0 * 0.08,   # Production rate\n",
    "    'ef_bureaucracy_on_prod': 0.02 * 0.08,  # Effect of bureaucracy on production \n",
    "    'k_deprec': 0.001 * 0.1 * 0.08,  # Depreciation rate\n",
    "    'ef_pollution_on_depreciation': 0.05 * 0.08,  # Effect of pollution on economy depreciation \n",
    "    'k_bureaucracy': 0.01 * 0.08,  # Bureaucracy formation rate\n",
    "    'ef_economy_on_bureaucracy': 3.5 * 0.8 * 0.08,  # Effect of the Economy on bureaucracy formation\n",
    "    'k_decay_bureaucracy': 0.5 * 5 * 0.08,  # Bureaucracy decay rate\n",
    "    'ef_pollution_on_bureaucracy': 0.02 * 0.08,  # Effect of pollution on bureaucracy decay  \n",
    "    'k_pollution': 0.12 * 0.08,  # Pollution generation rate \n",
    "    'k_pollution_decay': 0.0 * 0.08  # Pollution decay rate\n",
    "}\n",
    "\n",
    "state = [0.003068723398362957,0.11831087240638548,4.896177605007258e-06,1.0601437188968243]\n",
    "bm = BardisModel()\n"
   ]
  },
  {
   "cell_type": "code",
   "execution_count": 4,
   "metadata": {},
   "outputs": [
    {
     "data": {
      "text/plain": [
       "{'resource_inflow': 3.682468078035548e-06,\n",
       " 'extractive_pollution': 3.48540808736841e-06,\n",
       " 'production': 2.4175667447386227e-09,\n",
       " 'depreciation': 1.0034122260706657e-06,\n",
       " 'bureaucracy_creation': 1.2975671383472355e-07,\n",
       " 'bureaucracy_decay': 1.0381303869103484e-06,\n",
       " 'pollution_abatement': 0.0}"
      ]
     },
     "execution_count": 4,
     "metadata": {},
     "output_type": "execute_result"
    }
   ],
   "source": [
    "flows = bm.compute_flows(state, params)\n",
    "flows"
   ]
  },
  {
   "cell_type": "code",
   "execution_count": 7,
   "id": "b22e4556",
   "metadata": {},
   "outputs": [
    {
     "data": {
      "text/plain": [
       "-1.1307513731606507e-06"
      ]
     },
     "execution_count": 7,
     "metadata": {},
     "output_type": "execute_result"
    }
   ],
   "source": [
    "dEconomy = flows['production'] - flows['depreciation'] - flows['bureaucracy_creation']\n",
    "dEconomy"
   ]
  },
  {
   "cell_type": "code",
   "execution_count": 9,
   "id": "77cf6fe4",
   "metadata": {},
   "outputs": [
    {
     "data": {
      "text/plain": [
       "[1.9464242392239945e-07,\n",
       " -1.1307513731606507e-06,\n",
       " -9.083736730756249e-07,\n",
       " 5.526950700349424e-06]"
      ]
     },
     "execution_count": 9,
     "metadata": {},
     "output_type": "execute_result"
    }
   ],
   "source": [
    "derivatives = bm.compute_derivatives(state, flows)\n",
    "derivatives"
   ]
  },
  {
   "cell_type": "code",
   "execution_count": null,
   "id": "5f65da8f",
   "metadata": {},
   "outputs": [],
   "source": []
  }
 ],
 "metadata": {
  "kernelspec": {
   "display_name": "lblf_env",
   "language": "python",
   "name": "python3"
  },
  "language_info": {
   "codemirror_mode": {
    "name": "ipython",
    "version": 3
   },
   "file_extension": ".py",
   "mimetype": "text/x-python",
   "name": "python",
   "nbconvert_exporter": "python",
   "pygments_lexer": "ipython3",
   "version": "3.11.11"
  }
 },
 "nbformat": 4,
 "nbformat_minor": 5
}
