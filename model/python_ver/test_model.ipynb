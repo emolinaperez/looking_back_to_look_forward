{
 "cells": [
  {
   "cell_type": "code",
   "execution_count": null,
   "id": "7aa95ddb",
   "metadata": {},
   "outputs": [],
   "source": [
    "from model.python_ver.tainter_model_v1 import TainterModel\n",
    "import pandas as pd\n",
    "import os"
   ]
  },
  {
   "cell_type": "code",
   "execution_count": 2,
   "id": "08d4d920",
   "metadata": {},
   "outputs": [],
   "source": [
    "%load_ext autoreload\n",
    "%autoreload 2"
   ]
  },
  {
   "cell_type": "code",
   "execution_count": 3,
   "id": "d0ee8899",
   "metadata": {},
   "outputs": [],
   "source": [
    "SCRIPT_DIR_PATH = os.getcwd()\n",
    "MODEL_DIR_PATH = os.path.dirname(SCRIPT_DIR_PATH)\n",
    "ROOT_DIR_PATH = os.path.dirname(MODEL_DIR_PATH)\n",
    "TABLEU_DIR_PATH = os.path.join(ROOT_DIR_PATH, \"tableau\")"
   ]
  },
  {
   "cell_type": "code",
   "execution_count": null,
   "id": "1379ed71",
   "metadata": {},
   "outputs": [],
   "source": [
    "tm = TainterModel(debug=True)"
   ]
  },
  {
   "cell_type": "code",
   "execution_count": 4,
   "metadata": {},
   "outputs": [],
   "source": [
    "# Model parameters\n",
    "params = {\n",
    "    \"k_input_replenishment\": 0.03,\n",
    "    \"ef_inputs_capacity\": 0.05,\n",
    "    \"ef_complexity_support\": 0.1,\n",
    "    \"alpha_complexity_saturation\": 0.2,\n",
    "    \"k_cost_complexity\": 0.01,\n",
    "    \"k_capacity_drain\": 0.02,\n",
    "    \"k_complexity_growth\": 0.03,\n",
    "    \"k_complexity_decay\": 0.01,\n",
    "    \"k_burden_accumulation\": 0.04,\n",
    "    \"k_burden_reduction\": 0.01,\n",
    "}\n"
   ]
  },
  {
   "cell_type": "code",
   "execution_count": 5,
   "id": "3f7854a6",
   "metadata": {},
   "outputs": [
    {
     "ename": "NameError",
     "evalue": "name 'TABLEU_DIR_PATH' is not defined",
     "output_type": "error",
     "traceback": [
      "\u001b[31m---------------------------------------------------------------------------\u001b[39m",
      "\u001b[31mNameError\u001b[39m                                 Traceback (most recent call last)",
      "\u001b[36mCell\u001b[39m\u001b[36m \u001b[39m\u001b[32mIn[5]\u001b[39m\u001b[32m, line 1\u001b[39m\n\u001b[32m----> \u001b[39m\u001b[32m1\u001b[39m model_output_df = pd.read_csv(os.path.join(\u001b[43mTABLEU_DIR_PATH\u001b[49m, \u001b[33m\"\u001b[39m\u001b[33mbaseline.csv\u001b[39m\u001b[33m\"\u001b[39m))\n\u001b[32m      2\u001b[39m model_output_df.head()\n",
      "\u001b[31mNameError\u001b[39m: name 'TABLEU_DIR_PATH' is not defined"
     ]
    }
   ],
   "source": [
    "model_output_df = pd.read_csv(os.path.join(TABLEU_DIR_PATH, \"baseline.csv\"))\n",
    "model_output_df.head()"
   ]
  },
  {
   "cell_type": "code",
   "execution_count": 7,
   "id": "086a7de4",
   "metadata": {},
   "outputs": [
    {
     "data": {
      "text/html": [
       "<div>\n",
       "<style scoped>\n",
       "    .dataframe tbody tr th:only-of-type {\n",
       "        vertical-align: middle;\n",
       "    }\n",
       "\n",
       "    .dataframe tbody tr th {\n",
       "        vertical-align: top;\n",
       "    }\n",
       "\n",
       "    .dataframe thead th {\n",
       "        text-align: right;\n",
       "    }\n",
       "</style>\n",
       "<table border=\"1\" class=\"dataframe\">\n",
       "  <thead>\n",
       "    <tr style=\"text-align: right;\">\n",
       "      <th></th>\n",
       "      <th>time</th>\n",
       "      <th>State_Inputs</th>\n",
       "      <th>State_Capacity</th>\n",
       "      <th>Administrative_Complexity</th>\n",
       "      <th>Systemic_Burden</th>\n",
       "    </tr>\n",
       "  </thead>\n",
       "  <tbody>\n",
       "    <tr>\n",
       "      <th>5000</th>\n",
       "      <td>50.0</td>\n",
       "      <td>-4.573718e-09</td>\n",
       "      <td>1.69578</td>\n",
       "      <td>2.044204</td>\n",
       "      <td>0.067523</td>\n",
       "    </tr>\n",
       "  </tbody>\n",
       "</table>\n",
       "</div>"
      ],
      "text/plain": [
       "      time  State_Inputs  State_Capacity  Administrative_Complexity  \\\n",
       "5000  50.0 -4.573718e-09         1.69578                   2.044204   \n",
       "\n",
       "      Systemic_Burden  \n",
       "5000         0.067523  "
      ]
     },
     "execution_count": 7,
     "metadata": {},
     "output_type": "execute_result"
    }
   ],
   "source": [
    "snapshot_time = 50\n",
    "\n",
    "# Get values when time is the snapshot time\n",
    "snapshot_df = model_output_df[model_output_df[\"time\"] == snapshot_time]\n",
    "\n",
    "snapshot_df"
   ]
  },
  {
   "cell_type": "code",
   "execution_count": 8,
   "id": "4cfad8fa",
   "metadata": {},
   "outputs": [
    {
     "data": {
      "text/plain": [
       "[np.float64(-4.573718073504188e-09),\n",
       " np.float64(1.6957796834012735),\n",
       " np.float64(2.044203851020608),\n",
       " np.float64(0.0675232928911868)]"
      ]
     },
     "execution_count": 8,
     "metadata": {},
     "output_type": "execute_result"
    }
   ],
   "source": [
    "stock_values = list(snapshot_df.drop(columns=[\"time\"]).values[0])\n",
    "stock_values"
   ]
  },
  {
   "cell_type": "code",
   "execution_count": null,
   "metadata": {},
   "outputs": [
    {
     "name": "stdout",
     "output_type": "stream",
     "text": [
      "Flows:\n",
      "input_replenishment: -1.3721154220512563e-10\n",
      "capacity_realization: -2.61867836996124e-10\n",
      "capacity_drain: 0.0022900925648245644\n",
      "complexity_growth: 0.0508733905020382\n",
      "complexity_decay: 0.0013803137536175653\n",
      "burden_accumulation: -1.047471347984496e-11\n",
      "burden_reduction: 0.000675232928911868\n",
      "cost_of_complexity: 0.02044203851020608\n",
      "Parameters:\n",
      "k_input_replenishment: 0.03\n",
      "ef_inputs_capacity: 0.05\n",
      "ef_complexity_support: 0.1\n",
      "alpha_complexity_saturation: 0.2\n",
      "k_cost_complexity: 0.01\n",
      "k_capacity_drain: 0.02\n",
      "k_complexity_growth: 0.03\n",
      "k_complexity_decay: 0.01\n",
      "k_burden_accumulation: 0.04\n",
      "k_burden_reduction: 0.01\n",
      "Other:\n",
      "complexity_effective_boost: 0.14509828890914558\n"
     ]
    }
   ],
   "source": [
    "flows = tm.compute_flows(stock_values, params)"
   ]
  },
  {
   "cell_type": "code",
   "execution_count": null,
   "id": "5f65da8f",
   "metadata": {},
   "outputs": [
    {
     "name": "stdout",
     "output_type": "stream",
     "text": [
      "Derivatives:\n",
      "dInputs: 0\n",
      "dCapacity: -0.0022900928266924012\n",
      "dComplexity: 0.049493076748420635\n",
      "dBurden: -0.0006752329393865814\n"
     ]
    }
   ],
   "source": [
    "derivatives = tm.compute_derivatives(stock_values, flows)"
   ]
  },
  {
   "cell_type": "code",
   "execution_count": null,
   "id": "0d8cda79",
   "metadata": {},
   "outputs": [],
   "source": []
  }
 ],
 "metadata": {
  "kernelspec": {
   "display_name": "lblf_env",
   "language": "python",
   "name": "python3"
  },
  "language_info": {
   "codemirror_mode": {
    "name": "ipython",
    "version": 3
   },
   "file_extension": ".py",
   "mimetype": "text/x-python",
   "name": "python",
   "nbconvert_exporter": "python",
   "pygments_lexer": "ipython3",
   "version": "3.11.11"
  }
 },
 "nbformat": 4,
 "nbformat_minor": 5
}
